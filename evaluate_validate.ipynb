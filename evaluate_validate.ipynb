{
 "cells": [
  {
   "cell_type": "markdown",
   "metadata": {},
   "source": [
    "# **Evaluation and Validation of Balanced Dataset**"
   ]
  },
  {
   "cell_type": "code",
   "execution_count": 1,
   "metadata": {},
   "outputs": [],
   "source": [
    "import pandas as pd\n",
    "from sklearn.model_selection import train_test_split\n",
    "from sklearn.preprocessing import MinMaxScaler"
   ]
  },
  {
   "cell_type": "markdown",
   "metadata": {},
   "source": [
    "## **Step 1: Data Preparation**\n",
    "- Load the **merged balanced dataset** and **testing set**.\n",
    "- Split the **balanced dataset** into **training (X_train, y_train)**.\n",
    "- Ensure both **training and testing data** are properly **scaled**."
   ]
  },
  {
   "cell_type": "code",
   "execution_count": 4,
   "metadata": {},
   "outputs": [
    {
     "name": "stdout",
     "output_type": "stream",
     "text": [
      "Data preparation complete!\n",
      "Training set: (252000, 39)\n",
      "Validation set: (108000, 39)\n",
      "Testing set: (82332, 39)\n"
     ]
    }
   ],
   "source": [
    "# Load merged balanced dataset\n",
    "df_balanced = pd.read_csv('balanced_attack_data.csv')\n",
    "df_test = pd.read_csv('UNSW_NB15_testing-set.csv')\n",
    "\n",
    "# Drop unnecessary columns in df_test to match df_balanced\n",
    "df_test = df_test.drop(columns=[\"id\", \"proto\", \"service\", \"state\", \"label\"], errors=\"ignore\")\n",
    "\n",
    "# Separate features and labels\n",
    "X = df_balanced.drop(columns=[\"attack_cat\"])  # Features\n",
    "y = df_balanced[\"attack_cat\"]  # Labels\n",
    "\n",
    "# Split into train (70%) and validation (30%) sets\n",
    "X_train, X_val, y_train, y_val = train_test_split(X, y, test_size=0.3, random_state=42, stratify=y)\n",
    "\n",
    "# Ensure test set is prepared correctly\n",
    "X_test = df_test.drop(columns=[\"attack_cat\"])\n",
    "y_test = df_test[\"attack_cat\"]\n",
    "\n",
    "# Scale numerical features\n",
    "scaler = MinMaxScaler()\n",
    "X_train = scaler.fit_transform(X_train)\n",
    "X_val = scaler.transform(X_val)\n",
    "X_test = scaler.transform(X_test)\n",
    "\n",
    "print(\"Data preparation complete!\")\n",
    "print(f\"Training set: {X_train.shape}\\nValidation set: {X_val.shape}\\nTesting set: {X_test.shape}\")"
   ]
  },
  {
   "cell_type": "markdown",
   "metadata": {},
   "source": [
    "## **Step 2: Train Machine Learning Models**\n",
    "- Choose models for evaluation:\n",
    "  - **Logistic Regression** (Baseline)\n",
    "  - **Random Forest**\n",
    "  - **Support Vector Machine (SVM)**\n",
    "  - **Gradient Boosting (XGBoost, LightGBM)**\n",
    "  - **Neural Networks (Optional)**\n",
    "- Train each model using the **balanced dataset**."
   ]
  },
  {
   "cell_type": "markdown",
   "metadata": {},
   "source": [
    "## **Step 3: Evaluate Model Performance**\n",
    "- Use the **testing set** to evaluate trained models.\n",
    "- Compute performance metrics:\n",
    "  - **Accuracy**\n",
    "  - **Precision, Recall, F1-score**\n",
    "  - **Confusion Matrix**\n",
    "  - **AUC-ROC Curve**\n",
    "- Compare results to assess improvement."
   ]
  },
  {
   "cell_type": "markdown",
   "metadata": {},
   "source": [
    "## **Step 4: Model Validation**\n",
    "- Perform **Cross-validation** on the training set.\n",
    "- Conduct **Hyperparameter tuning** (GridSearchCV, RandomizedSearchCV).\n",
    "- Check for **overfitting/underfitting**."
   ]
  },
  {
   "cell_type": "markdown",
   "metadata": {},
   "source": [
    "## **Step 5: Conclusion**\n",
    "- Summarize model performances.\n",
    "- Identify the best-performing model for **network intrusion detection**.\n",
    "- Discuss whether **balancing improved model performance**."
   ]
  }
 ],
 "metadata": {
  "kernelspec": {
   "display_name": "env_dl",
   "language": "python",
   "name": "python3"
  },
  "language_info": {
   "codemirror_mode": {
    "name": "ipython",
    "version": 3
   },
   "file_extension": ".py",
   "mimetype": "text/x-python",
   "name": "python",
   "nbconvert_exporter": "python",
   "pygments_lexer": "ipython3",
   "version": "3.12.9"
  }
 },
 "nbformat": 4,
 "nbformat_minor": 2
}
