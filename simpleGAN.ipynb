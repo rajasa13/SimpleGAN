{
 "cells": [
  {
   "cell_type": "markdown",
   "metadata": {},
   "source": [
    "# How to use the simple GAN (Generative Adversarial Network) in PyTorch"
   ]
  },
  {
   "cell_type": "code",
   "execution_count": null,
   "metadata": {},
   "outputs": [],
   "source": [
    "# Core Libraries\n",
    "import torch\n",
    "import torch.nn as nn\n",
    "import torch.optim as optim\n",
    "\n",
    "# Data Handling & Preprocessing\n",
    "import pandas as pd\n",
    "from sklearn.preprocessing import MinMaxScaler\n",
    "\n",
    "# Visualization & Debugging\n",
    "import matplotlib.pyplot as plt\n",
    "import seaborn as sns"
   ]
  },
  {
   "cell_type": "markdown",
   "metadata": {},
   "source": [
    "## Data Preparation\n",
    "The dataset I'm using is UNSW-NB15, the data already split so I don't need to split it manually. The dataset is divided into:\n",
    "- Training-set with CSV format.\n",
    "- Testing-set with CSV format."
   ]
  },
  {
   "cell_type": "markdown",
   "metadata": {},
   "source": [
    "Load the Dataset"
   ]
  },
  {
   "cell_type": "code",
   "execution_count": 2,
   "metadata": {},
   "outputs": [
    {
     "data": {
      "text/html": [
       "<div>\n",
       "<style scoped>\n",
       "    .dataframe tbody tr th:only-of-type {\n",
       "        vertical-align: middle;\n",
       "    }\n",
       "\n",
       "    .dataframe tbody tr th {\n",
       "        vertical-align: top;\n",
       "    }\n",
       "\n",
       "    .dataframe thead th {\n",
       "        text-align: right;\n",
       "    }\n",
       "</style>\n",
       "<table border=\"1\" class=\"dataframe\">\n",
       "  <thead>\n",
       "    <tr style=\"text-align: right;\">\n",
       "      <th></th>\n",
       "      <th>id</th>\n",
       "      <th>dur</th>\n",
       "      <th>proto</th>\n",
       "      <th>service</th>\n",
       "      <th>state</th>\n",
       "      <th>spkts</th>\n",
       "      <th>dpkts</th>\n",
       "      <th>sbytes</th>\n",
       "      <th>dbytes</th>\n",
       "      <th>rate</th>\n",
       "      <th>...</th>\n",
       "      <th>ct_dst_sport_ltm</th>\n",
       "      <th>ct_dst_src_ltm</th>\n",
       "      <th>is_ftp_login</th>\n",
       "      <th>ct_ftp_cmd</th>\n",
       "      <th>ct_flw_http_mthd</th>\n",
       "      <th>ct_src_ltm</th>\n",
       "      <th>ct_srv_dst</th>\n",
       "      <th>is_sm_ips_ports</th>\n",
       "      <th>attack_cat</th>\n",
       "      <th>label</th>\n",
       "    </tr>\n",
       "  </thead>\n",
       "  <tbody>\n",
       "    <tr>\n",
       "      <th>0</th>\n",
       "      <td>1</td>\n",
       "      <td>0.121478</td>\n",
       "      <td>tcp</td>\n",
       "      <td>-</td>\n",
       "      <td>FIN</td>\n",
       "      <td>6</td>\n",
       "      <td>4</td>\n",
       "      <td>258</td>\n",
       "      <td>172</td>\n",
       "      <td>74.087490</td>\n",
       "      <td>...</td>\n",
       "      <td>1</td>\n",
       "      <td>1</td>\n",
       "      <td>0</td>\n",
       "      <td>0</td>\n",
       "      <td>0</td>\n",
       "      <td>1</td>\n",
       "      <td>1</td>\n",
       "      <td>0</td>\n",
       "      <td>Normal</td>\n",
       "      <td>0</td>\n",
       "    </tr>\n",
       "    <tr>\n",
       "      <th>1</th>\n",
       "      <td>2</td>\n",
       "      <td>0.649902</td>\n",
       "      <td>tcp</td>\n",
       "      <td>-</td>\n",
       "      <td>FIN</td>\n",
       "      <td>14</td>\n",
       "      <td>38</td>\n",
       "      <td>734</td>\n",
       "      <td>42014</td>\n",
       "      <td>78.473372</td>\n",
       "      <td>...</td>\n",
       "      <td>1</td>\n",
       "      <td>2</td>\n",
       "      <td>0</td>\n",
       "      <td>0</td>\n",
       "      <td>0</td>\n",
       "      <td>1</td>\n",
       "      <td>6</td>\n",
       "      <td>0</td>\n",
       "      <td>Normal</td>\n",
       "      <td>0</td>\n",
       "    </tr>\n",
       "    <tr>\n",
       "      <th>2</th>\n",
       "      <td>3</td>\n",
       "      <td>1.623129</td>\n",
       "      <td>tcp</td>\n",
       "      <td>-</td>\n",
       "      <td>FIN</td>\n",
       "      <td>8</td>\n",
       "      <td>16</td>\n",
       "      <td>364</td>\n",
       "      <td>13186</td>\n",
       "      <td>14.170161</td>\n",
       "      <td>...</td>\n",
       "      <td>1</td>\n",
       "      <td>3</td>\n",
       "      <td>0</td>\n",
       "      <td>0</td>\n",
       "      <td>0</td>\n",
       "      <td>2</td>\n",
       "      <td>6</td>\n",
       "      <td>0</td>\n",
       "      <td>Normal</td>\n",
       "      <td>0</td>\n",
       "    </tr>\n",
       "    <tr>\n",
       "      <th>3</th>\n",
       "      <td>4</td>\n",
       "      <td>1.681642</td>\n",
       "      <td>tcp</td>\n",
       "      <td>ftp</td>\n",
       "      <td>FIN</td>\n",
       "      <td>12</td>\n",
       "      <td>12</td>\n",
       "      <td>628</td>\n",
       "      <td>770</td>\n",
       "      <td>13.677108</td>\n",
       "      <td>...</td>\n",
       "      <td>1</td>\n",
       "      <td>3</td>\n",
       "      <td>1</td>\n",
       "      <td>1</td>\n",
       "      <td>0</td>\n",
       "      <td>2</td>\n",
       "      <td>1</td>\n",
       "      <td>0</td>\n",
       "      <td>Normal</td>\n",
       "      <td>0</td>\n",
       "    </tr>\n",
       "    <tr>\n",
       "      <th>4</th>\n",
       "      <td>5</td>\n",
       "      <td>0.449454</td>\n",
       "      <td>tcp</td>\n",
       "      <td>-</td>\n",
       "      <td>FIN</td>\n",
       "      <td>10</td>\n",
       "      <td>6</td>\n",
       "      <td>534</td>\n",
       "      <td>268</td>\n",
       "      <td>33.373826</td>\n",
       "      <td>...</td>\n",
       "      <td>1</td>\n",
       "      <td>40</td>\n",
       "      <td>0</td>\n",
       "      <td>0</td>\n",
       "      <td>0</td>\n",
       "      <td>2</td>\n",
       "      <td>39</td>\n",
       "      <td>0</td>\n",
       "      <td>Normal</td>\n",
       "      <td>0</td>\n",
       "    </tr>\n",
       "  </tbody>\n",
       "</table>\n",
       "<p>5 rows × 45 columns</p>\n",
       "</div>"
      ],
      "text/plain": [
       "   id       dur proto service state  spkts  dpkts  sbytes  dbytes       rate  \\\n",
       "0   1  0.121478   tcp       -   FIN      6      4     258     172  74.087490   \n",
       "1   2  0.649902   tcp       -   FIN     14     38     734   42014  78.473372   \n",
       "2   3  1.623129   tcp       -   FIN      8     16     364   13186  14.170161   \n",
       "3   4  1.681642   tcp     ftp   FIN     12     12     628     770  13.677108   \n",
       "4   5  0.449454   tcp       -   FIN     10      6     534     268  33.373826   \n",
       "\n",
       "   ...  ct_dst_sport_ltm  ct_dst_src_ltm  is_ftp_login  ct_ftp_cmd  \\\n",
       "0  ...                 1               1             0           0   \n",
       "1  ...                 1               2             0           0   \n",
       "2  ...                 1               3             0           0   \n",
       "3  ...                 1               3             1           1   \n",
       "4  ...                 1              40             0           0   \n",
       "\n",
       "   ct_flw_http_mthd  ct_src_ltm  ct_srv_dst  is_sm_ips_ports  attack_cat  \\\n",
       "0                 0           1           1                0      Normal   \n",
       "1                 0           1           6                0      Normal   \n",
       "2                 0           2           6                0      Normal   \n",
       "3                 0           2           1                0      Normal   \n",
       "4                 0           2          39                0      Normal   \n",
       "\n",
       "   label  \n",
       "0      0  \n",
       "1      0  \n",
       "2      0  \n",
       "3      0  \n",
       "4      0  \n",
       "\n",
       "[5 rows x 45 columns]"
      ]
     },
     "execution_count": 2,
     "metadata": {},
     "output_type": "execute_result"
    }
   ],
   "source": [
    "# Load CSV files\n",
    "df_train = pd.read_csv('UNSW_NB15_training-set.csv')\n",
    "df_test = pd.read_csv('UNSW_NB15_testing-set.csv')\n",
    "\n",
    "# Display the first 5 rows\n",
    "df_train.head()"
   ]
  },
  {
   "cell_type": "markdown",
   "metadata": {},
   "source": [
    "Check class distribution and answer this question:\n",
    "- What are the minority attack classes?\n",
    "- How severe is the imbalance?"
   ]
  },
  {
   "cell_type": "code",
   "execution_count": 3,
   "metadata": {},
   "outputs": [
    {
     "name": "stdout",
     "output_type": "stream",
     "text": [
      "Index(['id', 'dur', 'proto', 'service', 'state', 'spkts', 'dpkts', 'sbytes',\n",
      "       'dbytes', 'rate', 'sttl', 'dttl', 'sload', 'dload', 'sloss', 'dloss',\n",
      "       'sinpkt', 'dinpkt', 'sjit', 'djit', 'swin', 'stcpb', 'dtcpb', 'dwin',\n",
      "       'tcprtt', 'synack', 'ackdat', 'smean', 'dmean', 'trans_depth',\n",
      "       'response_body_len', 'ct_srv_src', 'ct_state_ttl', 'ct_dst_ltm',\n",
      "       'ct_src_dport_ltm', 'ct_dst_sport_ltm', 'ct_dst_src_ltm',\n",
      "       'is_ftp_login', 'ct_ftp_cmd', 'ct_flw_http_mthd', 'ct_src_ltm',\n",
      "       'ct_srv_dst', 'is_sm_ips_ports', 'attack_cat', 'label'],\n",
      "      dtype='object')\n",
      "attack_cat\n",
      "Normal            56000\n",
      "Generic           40000\n",
      "Exploits          33393\n",
      "Fuzzers           18184\n",
      "DoS               12264\n",
      "Reconnaissance    10491\n",
      "Analysis           2000\n",
      "Backdoor           1746\n",
      "Shellcode          1133\n",
      "Worms               130\n",
      "Name: count, dtype: int64\n"
     ]
    }
   ],
   "source": [
    "# Check column names\n",
    "print(df_train.columns)\n",
    "\n",
    "# Count occurences of each unieque value in the attack_cat column\n",
    "print(df_train[\"attack_cat\"].value_counts())"
   ]
  },
  {
   "cell_type": "code",
   "execution_count": 4,
   "metadata": {},
   "outputs": [
    {
     "name": "stdout",
     "output_type": "stream",
     "text": [
      "attack_cat\n",
      "Generic           40000\n",
      "Exploits          33393\n",
      "Fuzzers           18184\n",
      "DoS               12264\n",
      "Reconnaissance    10491\n",
      "Analysis           2000\n",
      "Backdoor           1746\n",
      "Shellcode          1133\n",
      "Worms               130\n",
      "Name: count, dtype: int64\n"
     ]
    }
   ],
   "source": [
    "# Drop rows where 'attack_cat' is 'Normal'\n",
    "df_train_attack = df_train[df_train['attack_cat'] != 'Normal']\n",
    "\n",
    "# Count occurences of each attack classes\n",
    "print(df_train_attack[\"attack_cat\"].value_counts())"
   ]
  },
  {
   "cell_type": "markdown",
   "metadata": {},
   "source": [
    "Visualize the Class Imbalance"
   ]
  },
  {
   "cell_type": "code",
   "execution_count": 5,
   "metadata": {},
   "outputs": [
    {
     "data": {
      "image/png": "[encoded data removed]",
      "text/plain": [
       "<Figure size 1000x500 with 1 Axes>"
      ]
     },
     "metadata": {},
     "output_type": "display_data"
    }
   ],
   "source": [
    "plt.figure(figsize=(10, 5))\n",
    "sns.countplot(x=df_train_attack['attack_cat'], order=df_train_attack['attack_cat'].value_counts().index)\n",
    "plt.xticks(rotation=45)\n",
    "plt.title('Class Distribution of Attack Samples')\n",
    "plt.show()"
   ]
  },
  {
   "cell_type": "markdown",
   "metadata": {},
   "source": [
    "To measure how severe the imbalance is, I'm use imbalance ratio (IR) and other statistical metrics.\n",
    "The imbalance ratio (IR) tells us how imbalanced the dataset is. It’s calculated as:\n",
    "\n",
    "IR = Majority class count / Minority class count\n",
    "\n",
    "- If IR > 1.5, the dataset is imbalanced.  \n",
    "- If IR > 10, the imbalance is severe.  \n",
    "- If any class has less than 5% of the dataset, which indicates a significant imbalance."
   ]
  },
  {
   "cell_type": "code",
   "execution_count": 6,
   "metadata": {},
   "outputs": [
    {
     "name": "stdout",
     "output_type": "stream",
     "text": [
      "Imbalance Ratio (IR): 307.69\n",
      "\n",
      "attack_cat\n",
      "Generic           33.517400\n",
      "Exploits          27.981163\n",
      "Fuzzers           15.237010\n",
      "DoS               10.276435\n",
      "Reconnaissance     8.790776\n",
      "Analysis           1.675870\n",
      "Backdoor           1.463034\n",
      "Shellcode          0.949380\n",
      "Worms              0.108932\n",
      "Name: count, dtype: float64\n"
     ]
    }
   ],
   "source": [
    "# Find the majority and minority class sizes\n",
    "class_counts = df_train_attack['attack_cat'].value_counts()\n",
    "majority_class = class_counts.max()\n",
    "minority_class = class_counts.min()\n",
    "\n",
    "# Compute imbalance ratio\n",
    "imbalance_ratio = majority_class / minority_class\n",
    "print(f\"Imbalance Ratio (IR): {imbalance_ratio:.2f}\\n\")\n",
    "\n",
    "# Compute percentage distribution\n",
    "total_samples = len(df_train_attack)\n",
    "percentages = (class_counts / total_samples) * 100\n",
    "print(percentages)"
   ]
  },
  {
   "cell_type": "markdown",
   "metadata": {},
   "source": [
    "The answer above question is:\n",
    "- There is few minority attack classes **less then 5%** of the dataset here: Worms, Shellcode, Backdoor, and Analysis.\n",
    "- The Imbalance Ratio is 307.69 which indicate the dataset is **highly imbalance!**."
   ]
  },
  {
   "cell_type": "markdown",
   "metadata": {},
   "source": [
    "Normalize Features  \n",
    "GANs work best when features are scaled between **0 and 1**"
   ]
  },
  {
   "cell_type": "code",
   "execution_count": null,
   "metadata": {},
   "outputs": [
    {
     "name": "stdout",
     "output_type": "stream",
     "text": [
      "Selected numerical columns: ['dur', 'spkts', 'dpkts', 'sbytes', 'dbytes', 'rate', 'sttl', 'dttl', 'sload', 'dload', 'sloss', 'dloss', 'sinpkt', 'dinpkt', 'sjit', 'djit', 'swin', 'stcpb', 'dtcpb', 'dwin', 'tcprtt', 'synack', 'ackdat', 'smean', 'dmean', 'trans_depth', 'response_body_len', 'ct_srv_src', 'ct_state_ttl', 'ct_dst_ltm', 'ct_src_dport_ltm', 'ct_dst_sport_ltm', 'ct_dst_src_ltm', 'is_ftp_login', 'ct_ftp_cmd', 'ct_flw_http_mthd', 'ct_src_ltm', 'ct_srv_dst', 'is_sm_ips_ports']\n"
     ]
    },
    {
     "name": "stderr",
     "output_type": "stream",
     "text": [
      "C:\\Users\\Rajasa\\AppData\\Local\\Temp\\ipykernel_17660\\3056403719.py:2: SettingWithCopyWarning: \n",
      "A value is trying to be set on a copy of a slice from a DataFrame\n",
      "\n",
      "See the caveats in the documentation: https://pandas.pydata.org/pandas-docs/stable/user_guide/indexing.html#returning-a-view-versus-a-copy\n",
      "  df_train_attack.drop(columns=['id', 'label', 'service', 'state', 'proto'], inplace=True)\n",
      "C:\\Users\\Rajasa\\AppData\\Local\\Temp\\ipykernel_17660\\3056403719.py:9: SettingWithCopyWarning: \n",
      "A value is trying to be set on a copy of a slice from a DataFrame.\n",
      "Try using .loc[row_indexer,col_indexer] = value instead\n",
      "\n",
      "See the caveats in the documentation: https://pandas.pydata.org/pandas-docs/stable/user_guide/indexing.html#returning-a-view-versus-a-copy\n",
      "  df_train_attack[numerical_cols] = scaler.fit_transform(df_train_attack[numerical_cols])\n"
     ]
    },
    {
     "data": {
      "text/html": [
       "<div>\n",
       "<style scoped>\n",
       "    .dataframe tbody tr th:only-of-type {\n",
       "        vertical-align: middle;\n",
       "    }\n",
       "\n",
       "    .dataframe tbody tr th {\n",
       "        vertical-align: top;\n",
       "    }\n",
       "\n",
       "    .dataframe thead th {\n",
       "        text-align: right;\n",
       "    }\n",
       "</style>\n",
       "<table border=\"1\" class=\"dataframe\">\n",
       "  <thead>\n",
       "    <tr style=\"text-align: right;\">\n",
       "      <th></th>\n",
       "      <th>dur</th>\n",
       "      <th>spkts</th>\n",
       "      <th>dpkts</th>\n",
       "      <th>sbytes</th>\n",
       "      <th>dbytes</th>\n",
       "      <th>rate</th>\n",
       "      <th>sttl</th>\n",
       "      <th>dttl</th>\n",
       "      <th>sload</th>\n",
       "      <th>dload</th>\n",
       "      <th>...</th>\n",
       "      <th>ct_src_dport_ltm</th>\n",
       "      <th>ct_dst_sport_ltm</th>\n",
       "      <th>ct_dst_src_ltm</th>\n",
       "      <th>is_ftp_login</th>\n",
       "      <th>ct_ftp_cmd</th>\n",
       "      <th>ct_flw_http_mthd</th>\n",
       "      <th>ct_src_ltm</th>\n",
       "      <th>ct_srv_dst</th>\n",
       "      <th>is_sm_ips_ports</th>\n",
       "      <th>attack_cat</th>\n",
       "    </tr>\n",
       "  </thead>\n",
       "  <tbody>\n",
       "    <tr>\n",
       "      <th>47911</th>\n",
       "      <td>1.500024e-07</td>\n",
       "      <td>0.000104</td>\n",
       "      <td>0.0</td>\n",
       "      <td>0.000011</td>\n",
       "      <td>0.0</td>\n",
       "      <td>0.111111</td>\n",
       "      <td>0.996078</td>\n",
       "      <td>0.0</td>\n",
       "      <td>0.014845</td>\n",
       "      <td>0.0</td>\n",
       "      <td>...</td>\n",
       "      <td>0.00</td>\n",
       "      <td>0.000000</td>\n",
       "      <td>0.046875</td>\n",
       "      <td>0.0</td>\n",
       "      <td>0.0</td>\n",
       "      <td>0.0</td>\n",
       "      <td>0.016949</td>\n",
       "      <td>0.058824</td>\n",
       "      <td>0.0</td>\n",
       "      <td>Backdoor</td>\n",
       "    </tr>\n",
       "    <tr>\n",
       "      <th>47912</th>\n",
       "      <td>1.500024e-07</td>\n",
       "      <td>0.000104</td>\n",
       "      <td>0.0</td>\n",
       "      <td>0.000011</td>\n",
       "      <td>0.0</td>\n",
       "      <td>0.111111</td>\n",
       "      <td>0.996078</td>\n",
       "      <td>0.0</td>\n",
       "      <td>0.014845</td>\n",
       "      <td>0.0</td>\n",
       "      <td>...</td>\n",
       "      <td>0.02</td>\n",
       "      <td>0.033333</td>\n",
       "      <td>0.093750</td>\n",
       "      <td>0.0</td>\n",
       "      <td>0.0</td>\n",
       "      <td>0.0</td>\n",
       "      <td>0.016949</td>\n",
       "      <td>0.117647</td>\n",
       "      <td>0.0</td>\n",
       "      <td>Backdoor</td>\n",
       "    </tr>\n",
       "    <tr>\n",
       "      <th>47913</th>\n",
       "      <td>1.500024e-07</td>\n",
       "      <td>0.000104</td>\n",
       "      <td>0.0</td>\n",
       "      <td>0.000011</td>\n",
       "      <td>0.0</td>\n",
       "      <td>0.111111</td>\n",
       "      <td>0.996078</td>\n",
       "      <td>0.0</td>\n",
       "      <td>0.014845</td>\n",
       "      <td>0.0</td>\n",
       "      <td>...</td>\n",
       "      <td>0.00</td>\n",
       "      <td>0.000000</td>\n",
       "      <td>0.078125</td>\n",
       "      <td>0.0</td>\n",
       "      <td>0.0</td>\n",
       "      <td>0.0</td>\n",
       "      <td>0.000000</td>\n",
       "      <td>0.098039</td>\n",
       "      <td>0.0</td>\n",
       "      <td>Backdoor</td>\n",
       "    </tr>\n",
       "    <tr>\n",
       "      <th>47914</th>\n",
       "      <td>5.000080e-08</td>\n",
       "      <td>0.000104</td>\n",
       "      <td>0.0</td>\n",
       "      <td>0.000011</td>\n",
       "      <td>0.0</td>\n",
       "      <td>0.333333</td>\n",
       "      <td>0.996078</td>\n",
       "      <td>0.0</td>\n",
       "      <td>0.044534</td>\n",
       "      <td>0.0</td>\n",
       "      <td>...</td>\n",
       "      <td>0.02</td>\n",
       "      <td>0.033333</td>\n",
       "      <td>0.093750</td>\n",
       "      <td>0.0</td>\n",
       "      <td>0.0</td>\n",
       "      <td>0.0</td>\n",
       "      <td>0.016949</td>\n",
       "      <td>0.098039</td>\n",
       "      <td>0.0</td>\n",
       "      <td>Backdoor</td>\n",
       "    </tr>\n",
       "    <tr>\n",
       "      <th>47915</th>\n",
       "      <td>1.333355e-07</td>\n",
       "      <td>0.000104</td>\n",
       "      <td>0.0</td>\n",
       "      <td>0.000011</td>\n",
       "      <td>0.0</td>\n",
       "      <td>0.125000</td>\n",
       "      <td>0.996078</td>\n",
       "      <td>0.0</td>\n",
       "      <td>0.016700</td>\n",
       "      <td>0.0</td>\n",
       "      <td>...</td>\n",
       "      <td>0.00</td>\n",
       "      <td>0.000000</td>\n",
       "      <td>0.046875</td>\n",
       "      <td>0.0</td>\n",
       "      <td>0.0</td>\n",
       "      <td>0.0</td>\n",
       "      <td>0.169492</td>\n",
       "      <td>0.058824</td>\n",
       "      <td>0.0</td>\n",
       "      <td>Backdoor</td>\n",
       "    </tr>\n",
       "  </tbody>\n",
       "</table>\n",
       "<p>5 rows × 40 columns</p>\n",
       "</div>"
      ],
      "text/plain": [
       "                dur     spkts  dpkts    sbytes  dbytes      rate      sttl  \\\n",
       "47911  1.500024e-07  0.000104    0.0  0.000011     0.0  0.111111  0.996078   \n",
       "47912  1.500024e-07  0.000104    0.0  0.000011     0.0  0.111111  0.996078   \n",
       "47913  1.500024e-07  0.000104    0.0  0.000011     0.0  0.111111  0.996078   \n",
       "47914  5.000080e-08  0.000104    0.0  0.000011     0.0  0.333333  0.996078   \n",
       "47915  1.333355e-07  0.000104    0.0  0.000011     0.0  0.125000  0.996078   \n",
       "\n",
       "       dttl     sload  dload  ...  ct_src_dport_ltm  ct_dst_sport_ltm  \\\n",
       "47911   0.0  0.014845    0.0  ...              0.00          0.000000   \n",
       "47912   0.0  0.014845    0.0  ...              0.02          0.033333   \n",
       "47913   0.0  0.014845    0.0  ...              0.00          0.000000   \n",
       "47914   0.0  0.044534    0.0  ...              0.02          0.033333   \n",
       "47915   0.0  0.016700    0.0  ...              0.00          0.000000   \n",
       "\n",
       "       ct_dst_src_ltm  is_ftp_login  ct_ftp_cmd  ct_flw_http_mthd  ct_src_ltm  \\\n",
       "47911        0.046875           0.0         0.0               0.0    0.016949   \n",
       "47912        0.093750           0.0         0.0               0.0    0.016949   \n",
       "47913        0.078125           0.0         0.0               0.0    0.000000   \n",
       "47914        0.093750           0.0         0.0               0.0    0.016949   \n",
       "47915        0.046875           0.0         0.0               0.0    0.169492   \n",
       "\n",
       "       ct_srv_dst  is_sm_ips_ports  attack_cat  \n",
       "47911    0.058824              0.0    Backdoor  \n",
       "47912    0.117647              0.0    Backdoor  \n",
       "47913    0.098039              0.0    Backdoor  \n",
       "47914    0.098039              0.0    Backdoor  \n",
       "47915    0.058824              0.0    Backdoor  \n",
       "\n",
       "[5 rows x 40 columns]"
      ]
     },
     "execution_count": 8,
     "metadata": {},
     "output_type": "execute_result"
    }
   ],
   "source": [
    "# Drop unnecessary columns first\n",
    "df_train_attack.drop(columns=['id', 'label', 'service', 'state', 'proto'], inplace=True)\n",
    "\n",
    "# Select only numerical features\n",
    "numerical_cols = df_train_attack.select_dtypes(include=['float64', 'int64']).columns.tolist()\n",
    "\n",
    "# Apply MinMaxScalar to normalize the numerical features\n",
    "scaler = MinMaxScaler()\n",
    "df_train_attack[numerical_cols] = scaler.fit_transform(df_train_attack[numerical_cols])\n",
    "\n",
    "# Display the first 5 rows\n",
    "df_train_attack.head()"
   ]
  },
  {
   "cell_type": "markdown",
   "metadata": {},
   "source": [
    "## Define the GAN Architecture"
   ]
  },
  {
   "cell_type": "markdown",
   "metadata": {},
   "source": [
    "GAN Architecture Overview  \n",
    "A GAN consist of two networks:\n",
    "1. **Generator (G)** --> Takes random noise and generates fake attack samples.\n",
    "2. **Discriminator (D)** --> Determine if a sample is real or fake."
   ]
  },
  {
   "cell_type": "markdown",
   "metadata": {},
   "source": [
    "Define the Generator  \n",
    "The generator takes **random noise** as input and outputs a synthetic attack sample."
   ]
  },
  {
   "cell_type": "code",
   "execution_count": 9,
   "metadata": {},
   "outputs": [],
   "source": [
    "class Generator(nn.Module):\n",
    "    def __init__(self, input_dim, output_dim):\n",
    "        super(Generator, self).__init__()\n",
    "        self.model = nn.Sequential(\n",
    "            nn.Linear(input_dim, 128), # Fully connected layer\n",
    "            nn.ReLU(),\n",
    "            nn.Linear(128, 256),\n",
    "            nn.ReLU(),\n",
    "            nn.Linear(256, output_dim), # Output the same number of features as the dataset\n",
    "            nn.Tanh() # Output values between -1 and 1\n",
    "        )\n",
    "    \n",
    "    def forward(self, z):\n",
    "        return self.model(z)"
   ]
  },
  {
   "cell_type": "markdown",
   "metadata": {},
   "source": [
    "**input_dim** --> Size of the random noise (e.g., 100).  \n",
    "**output_dim** --> Number of features in your dataset."
   ]
  },
  {
   "cell_type": "markdown",
   "metadata": {},
   "source": [
    "Define the Discriminator  \n",
    "The discriminator classifies data as **real (1)** or **fake (0)**."
   ]
  },
  {
   "cell_type": "code",
   "execution_count": 10,
   "metadata": {},
   "outputs": [],
   "source": [
    "class Discriminator(nn.Module):\n",
    "    def __init__(self, input_dim):\n",
    "        super(Discriminator, self).__init__()\n",
    "        self.model = nn.Sequential(\n",
    "            nn.Linear(input_dim, 256),\n",
    "            nn.LeakyReLU(0.2),\n",
    "            nn.Linear(256, 128),\n",
    "            nn.LeakyReLU(0.2), \n",
    "            nn.Linear(128, 1), \n",
    "            nn.Sigmoid() # Output probability of being real\n",
    "        )\n",
    "    \n",
    "    def forward(self, x):\n",
    "        return self.model(x)"
   ]
  },
  {
   "cell_type": "markdown",
   "metadata": {},
   "source": [
    "Uses **LeakyReLU** to avoid dead neurons.  \n",
    "Ends with **Sigmoid** to output probability."
   ]
  },
  {
   "cell_type": "markdown",
   "metadata": {},
   "source": [
    "Initialize Models & Optimizers"
   ]
  },
  {
   "cell_type": "code",
   "execution_count": 11,
   "metadata": {},
   "outputs": [
    {
     "name": "stdout",
     "output_type": "stream",
     "text": [
      "Using device: cuda\n"
     ]
    }
   ],
   "source": [
    "# Set random seed for reproducibility\n",
    "torch.manual_seed(42)\n",
    "\n",
    "# Define dimensions\n",
    "input_dim = 100 # Random noise size\n",
    "output_dim = len(numerical_cols) # Number of features in dataset\n",
    "\n",
    "# Set device to GPU if available, otherwise fallback to CPU\n",
    "device = torch.device(\"cuda\" if torch.cuda.is_available() else \"cpu\")\n",
    "print(f\"Using device: {device}\")\n",
    "\n",
    "# Initialize models\n",
    "generator = Generator(input_dim, output_dim).to(device)\n",
    "discriminator = Discriminator(output_dim).to(device)\n",
    "\n",
    "# Optimizers & Loss Functions\n",
    "lr = 0.0002 # Learning rate\n",
    "optimizer_G = optim.Adam(generator.parameters(), lr=lr)\n",
    "optimizer_D = optim.Adam(discriminator.parameters(), lr=lr)\n",
    "criterion = nn.BCELoss() # Binary Cross-Entropy loss"
   ]
  },
  {
   "cell_type": "markdown",
   "metadata": {},
   "source": [
    "**criterion** helps measure how well the discriminator differentiates real vs. fake.  \n",
    "**Adam optimizer** helps in faster convergence."
   ]
  },
  {
   "cell_type": "markdown",
   "metadata": {},
   "source": [
    "## Training the GAN"
   ]
  },
  {
   "cell_type": "markdown",
   "metadata": {},
   "source": [
    "GAN Training Process\n",
    "- A separate GAN model was trained **for each minority attack category** except the majority class.\n",
    "- Training was conducted for **1,000 epochs** with a **batch size of 64**.\n",
    "- The generator and discriminator were optimized using the **Adam optimizer**.\n",
    "- The training process was **efficiently executed on GPU**."
   ]
  },
  {
   "cell_type": "code",
   "execution_count": 12,
   "metadata": {},
   "outputs": [
    {
     "name": "stdout",
     "output_type": "stream",
     "text": [
      "Training GAN for Backdoor...\n",
      "Epoch [1/1000] done for Backdoor\n",
      "Epoch [100/1000] done for Backdoor\n",
      "Epoch [200/1000] done for Backdoor\n",
      "Epoch [300/1000] done for Backdoor\n",
      "Epoch [400/1000] done for Backdoor\n",
      "Epoch [500/1000] done for Backdoor\n",
      "Epoch [600/1000] done for Backdoor\n",
      "Epoch [700/1000] done for Backdoor\n",
      "Epoch [800/1000] done for Backdoor\n",
      "Epoch [900/1000] done for Backdoor\n",
      "Epoch [1000/1000] done for Backdoor\n",
      "Backdoor GAN training Done!\n",
      "Training GAN for Analysis...\n",
      "Epoch [1/1000] done for Analysis\n",
      "Epoch [100/1000] done for Analysis\n",
      "Epoch [200/1000] done for Analysis\n",
      "Epoch [300/1000] done for Analysis\n",
      "Epoch [400/1000] done for Analysis\n",
      "Epoch [500/1000] done for Analysis\n",
      "Epoch [600/1000] done for Analysis\n",
      "Epoch [700/1000] done for Analysis\n",
      "Epoch [800/1000] done for Analysis\n",
      "Epoch [900/1000] done for Analysis\n",
      "Epoch [1000/1000] done for Analysis\n",
      "Analysis GAN training Done!\n",
      "Training GAN for Fuzzers...\n",
      "Epoch [1/1000] done for Fuzzers\n",
      "Epoch [100/1000] done for Fuzzers\n",
      "Epoch [200/1000] done for Fuzzers\n",
      "Epoch [300/1000] done for Fuzzers\n",
      "Epoch [400/1000] done for Fuzzers\n",
      "Epoch [500/1000] done for Fuzzers\n",
      "Epoch [600/1000] done for Fuzzers\n",
      "Epoch [700/1000] done for Fuzzers\n",
      "Epoch [800/1000] done for Fuzzers\n",
      "Epoch [900/1000] done for Fuzzers\n",
      "Epoch [1000/1000] done for Fuzzers\n",
      "Fuzzers GAN training Done!\n",
      "Training GAN for Shellcode...\n",
      "Epoch [1/1000] done for Shellcode\n",
      "Epoch [100/1000] done for Shellcode\n",
      "Epoch [200/1000] done for Shellcode\n",
      "Epoch [300/1000] done for Shellcode\n",
      "Epoch [400/1000] done for Shellcode\n",
      "Epoch [500/1000] done for Shellcode\n",
      "Epoch [600/1000] done for Shellcode\n",
      "Epoch [700/1000] done for Shellcode\n",
      "Epoch [800/1000] done for Shellcode\n",
      "Epoch [900/1000] done for Shellcode\n",
      "Epoch [1000/1000] done for Shellcode\n",
      "Shellcode GAN training Done!\n",
      "Training GAN for Reconnaissance...\n",
      "Epoch [1/1000] done for Reconnaissance\n",
      "Epoch [100/1000] done for Reconnaissance\n",
      "Epoch [200/1000] done for Reconnaissance\n",
      "Epoch [300/1000] done for Reconnaissance\n",
      "Epoch [400/1000] done for Reconnaissance\n",
      "Epoch [500/1000] done for Reconnaissance\n",
      "Epoch [600/1000] done for Reconnaissance\n",
      "Epoch [700/1000] done for Reconnaissance\n",
      "Epoch [800/1000] done for Reconnaissance\n",
      "Epoch [900/1000] done for Reconnaissance\n",
      "Epoch [1000/1000] done for Reconnaissance\n",
      "Reconnaissance GAN training Done!\n",
      "Training GAN for Exploits...\n",
      "Epoch [1/1000] done for Exploits\n",
      "Epoch [100/1000] done for Exploits\n",
      "Epoch [200/1000] done for Exploits\n",
      "Epoch [300/1000] done for Exploits\n",
      "Epoch [400/1000] done for Exploits\n",
      "Epoch [500/1000] done for Exploits\n",
      "Epoch [600/1000] done for Exploits\n",
      "Epoch [700/1000] done for Exploits\n",
      "Epoch [800/1000] done for Exploits\n",
      "Epoch [900/1000] done for Exploits\n",
      "Epoch [1000/1000] done for Exploits\n",
      "Exploits GAN training Done!\n",
      "Training GAN for DoS...\n",
      "Epoch [1/1000] done for DoS\n",
      "Epoch [100/1000] done for DoS\n",
      "Epoch [200/1000] done for DoS\n",
      "Epoch [300/1000] done for DoS\n",
      "Epoch [400/1000] done for DoS\n",
      "Epoch [500/1000] done for DoS\n",
      "Epoch [600/1000] done for DoS\n",
      "Epoch [700/1000] done for DoS\n",
      "Epoch [800/1000] done for DoS\n",
      "Epoch [900/1000] done for DoS\n",
      "Epoch [1000/1000] done for DoS\n",
      "DoS GAN training Done!\n",
      "Training GAN for Worms...\n",
      "Epoch [1/1000] done for Worms\n",
      "Epoch [100/1000] done for Worms\n",
      "Epoch [200/1000] done for Worms\n",
      "Epoch [300/1000] done for Worms\n",
      "Epoch [400/1000] done for Worms\n",
      "Epoch [500/1000] done for Worms\n",
      "Epoch [600/1000] done for Worms\n",
      "Epoch [700/1000] done for Worms\n",
      "Epoch [800/1000] done for Worms\n",
      "Epoch [900/1000] done for Worms\n",
      "Epoch [1000/1000] done for Worms\n",
      "Worms GAN training Done!\n"
     ]
    }
   ],
   "source": [
    "# Identify the majority class\n",
    "majority_class = df_train_attack['attack_cat'].value_counts().idxmax()\n",
    "classes_to_train = df_train_attack['attack_cat'].unique().tolist()\n",
    "classes_to_train.remove(majority_class)  # Exclude the majority class from training\n",
    "\n",
    "# Training parameters\n",
    "num_epochs = 1000 # Set the number of epochs for training\n",
    "batch_size = 64 # Set the batch size for each iteration\n",
    "\n",
    "# Loop through each minority attack class and train a separate GAN for each\n",
    "for attack_class in classes_to_train:\n",
    "    print(f\"Training GAN for {attack_class}...\")\n",
    "\n",
    "    # Extract only sampls of this attack class\n",
    "    real_data_class = df_train_attack[df_train_attack['attack_cat'] == attack_class][numerical_cols].values\n",
    "    real_data_class = torch.tensor(real_data_class, dtype=torch.float32).to(device)\n",
    "\n",
    "    # Train the GAN for this specific attack class\n",
    "    for epoch in range(num_epochs):\n",
    "        # Shuffle data at the start of each epoch\n",
    "        real_data_class = real_data_class[torch.randperm(real_data_class.size(0))]\n",
    "\n",
    "        # Train the GAN in mini-batches (batch_size)\n",
    "        for i in range(0, len(real_data_class), batch_size):\n",
    "            # Define batch_data as a slice of real_data_class\n",
    "            batch_data = real_data_class[i:i+batch_size].to(device)\n",
    "\n",
    "            ### Step 1: Train Discriminator ###\n",
    "            optimizer_D.zero_grad()\n",
    "\n",
    "            # Real samples\n",
    "            real_labels = torch.ones(batch_data.shape[0], 1).to(device) # Real data labels = 1\n",
    "            real_output = discriminator(batch_data)\n",
    "            loss_real = criterion(real_output, real_labels)\n",
    "\n",
    "            # Fake samples\n",
    "            noise = torch.randn(batch_data.shape[0], input_dim).to(device) # Generate random noise\n",
    "            fake_data = generator(noise) # Generate fake attack samples\n",
    "            fake_labels = torch.zeros(batch_data.shape[0], 1).to(device) # Fake data labels = 0\n",
    "            fake_output = discriminator(fake_data.detach()) # Detach to avoid generator update\n",
    "            loss_fake = criterion(fake_output, fake_labels)\n",
    "\n",
    "            # Total Discriminator loss\n",
    "            loss_D = loss_real + loss_fake\n",
    "            loss_D.backward()\n",
    "            optimizer_D.step()\n",
    "\n",
    "            ### Step 2: Train Generator ###\n",
    "            optimizer_G.zero_grad()\n",
    "\n",
    "            # Want to fool the discriminator\n",
    "            fake_output = discriminator(fake_data)\n",
    "            loss_G = criterion(fake_output, torch.ones(batch_data.shape[0], 1).to(device)) # Fake labels = 1 (to fool D)\n",
    "\n",
    "            loss_G.backward()\n",
    "            optimizer_G.step()\n",
    "\n",
    "        # print(f\"Epoch [{epoch+1}/{num_epochs}] done for {attack_class}\")\n",
    "        # Print updates only every 100 epochs and at the beginning & end\n",
    "        if (epoch + 1) % 100 == 0 or epoch == 0 or epoch == num_epochs - 1:\n",
    "            print(f\"Epoch [{epoch+1}/{num_epochs}] done for {attack_class}\")\n",
    "\n",
    "    print(f\"{attack_class} GAN training Done!\")"
   ]
  },
  {
   "cell_type": "markdown",
   "metadata": {},
   "source": [
    "## Generate Synthetic Attack Samples"
   ]
  },
  {
   "cell_type": "markdown",
   "metadata": {},
   "source": [
    "Synthetic Sample Generation\n",
    "- After training, **synthetic samples** were generated for each **attack class except majority class** until all classes were balanced.\n",
    "- The generated data was **merged** with the original dataset while preserving the class labels.\n",
    "- The synthetic samples save to **CSV file** to avoid training the GAN again in the future when close this notebook."
   ]
  },
  {
   "cell_type": "code",
   "execution_count": 13,
   "metadata": {},
   "outputs": [
    {
     "name": "stdout",
     "output_type": "stream",
     "text": [
      "Generating synthetic samples for Backdoor...\n",
      "Generating synthetic samples for Analysis...\n",
      "Generating synthetic samples for Fuzzers...\n",
      "Generating synthetic samples for Shellcode...\n",
      "Generating synthetic samples for Reconnaissance...\n",
      "Generating synthetic samples for Exploits...\n",
      "Generating synthetic samples for DoS...\n",
      "Generating synthetic samples for Worms...\n",
      "Synthetic attack samples for all minority classes saved!\n"
     ]
    }
   ],
   "source": [
    "# Identify the size of the majority class\n",
    "majority_class_size = df_train_attack['attack_cat'].value_counts().max()\n",
    "\n",
    "# Loop through each minority attack class and generate synthetic samples\n",
    "synthetic_dataframes = []\n",
    "\n",
    "for attack_class in classes_to_train:\n",
    "    print(f\"Generating synthetic samples for {attack_class}...\")\n",
    "\n",
    "    # Extract only samples of this attack class\n",
    "    real_data_class = df_train_attack[df_train_attack['attack_cat'] == attack_class][numerical_cols].values\n",
    "    real_data_class = torch.tensor(real_data_class, dtype=torch.float32).to(device)\n",
    "\n",
    "    # Generate synthetic samples after training the GAN\n",
    "    num_samples_needed = majority_class_size - len(real_data_class) # Calculate number of synthetic samples needed\n",
    "    noise = torch.randn(num_samples_needed, input_dim, device=device)\n",
    "    synthetic_samples = generator(noise).detach().cpu().numpy()\n",
    "\n",
    "    # Convert back to original scale\n",
    "    synthetic_samples = scaler.inverse_transform(synthetic_samples)\n",
    "\n",
    "    # Create DataFrame for the synthetic samples and label them with the same attack class\n",
    "    synthetic_df = pd.DataFrame(synthetic_samples, columns=numerical_cols)\n",
    "    synthetic_df['attack_cat'] = attack_class # Same name as the original attack class\n",
    "\n",
    "    # Store for merging later\n",
    "    synthetic_dataframes.append(synthetic_df)\n",
    "\n",
    "# Combine all synthetic data into one DataFrame\n",
    "final_synthetic_df = pd.concat(synthetic_dataframes, ignore_index=True)\n",
    "\n",
    "# Save the synthetic data to a CSV file\n",
    "final_synthetic_df.to_csv('synthetic_attack_data.csv', index=False)\n",
    "print(\"Synthetic attack samples for all minority classes saved!\")"
   ]
  },
  {
   "cell_type": "code",
   "execution_count": 14,
   "metadata": {},
   "outputs": [
    {
     "name": "stdout",
     "output_type": "stream",
     "text": [
      "Merged dataset saved as 'balanced_attack_data.csv'!\n"
     ]
    }
   ],
   "source": [
    "# Merge synthetic samples with the original dataset\n",
    "df_final = pd.concat([df_train_attack, final_synthetic_df], ignore_index=True)\n",
    "\n",
    "# Save the merged dataset to a new CSV file\n",
    "df_final.to_csv('balanced_attack_data.csv', index=False)\n",
    "print(\"Merged dataset saved as 'balanced_attack_data.csv'!\")"
   ]
  },
  {
   "cell_type": "code",
   "execution_count": 15,
   "metadata": {},
   "outputs": [
    {
     "data": {
      "image/png": "[encoded data removed]",
      "text/plain": [
       "<Figure size 1000x500 with 1 Axes>"
      ]
     },
     "metadata": {},
     "output_type": "display_data"
    }
   ],
   "source": [
    "plt.figure(figsize=(10, 5))\n",
    "sns.countplot(x=df_final['attack_cat'], order=df_final['attack_cat'].value_counts().index)\n",
    "plt.xticks(rotation=45)\n",
    "plt.title('Class Distribution of Attack Samples After Balancing')\n",
    "plt.show()"
   ]
  },
  {
   "cell_type": "code",
   "execution_count": 16,
   "metadata": {},
   "outputs": [
    {
     "name": "stdout",
     "output_type": "stream",
     "text": [
      "Imbalance Ratio (IR): 1.00\n",
      "\n",
      "attack_cat\n",
      "Backdoor          11.111111\n",
      "Analysis          11.111111\n",
      "Fuzzers           11.111111\n",
      "Shellcode         11.111111\n",
      "Reconnaissance    11.111111\n",
      "Exploits          11.111111\n",
      "DoS               11.111111\n",
      "Worms             11.111111\n",
      "Generic           11.111111\n",
      "Name: count, dtype: float64\n"
     ]
    }
   ],
   "source": [
    "# Find the majority and minority class sizes\n",
    "class_counts = df_final['attack_cat'].value_counts()\n",
    "majority_class = class_counts.max()\n",
    "minority_class = class_counts.min()\n",
    "\n",
    "# Compute imbalance ratio\n",
    "imbalance_ratio = majority_class / minority_class\n",
    "print(f\"Imbalance Ratio (IR): {imbalance_ratio:.2f}\\n\")\n",
    "\n",
    "# Compute percentage distribution\n",
    "total_samples = len(df_final)\n",
    "percentages = (class_counts / total_samples) * 100\n",
    "print(percentages)"
   ]
  },
  {
   "cell_type": "markdown",
   "metadata": {},
   "source": [
    "Final Balanced Dataset  \n",
    "After generating and merging synthetic attack samples, the **new Imbalance Ratio (IR) is 1.00**, meaning all attack categories now have **equal representation**."
   ]
  }
 ],
 "metadata": {
  "kernelspec": {
   "display_name": "env_dl",
   "language": "python",
   "name": "python3"
  },
  "language_info": {
   "codemirror_mode": {
    "name": "ipython",
    "version": 3
   },
   "file_extension": ".py",
   "mimetype": "text/x-python",
   "name": "python",
   "nbconvert_exporter": "python",
   "pygments_lexer": "ipython3",
   "version": "3.12.9"
  }
 },
 "nbformat": 4,
 "nbformat_minor": 2
}
